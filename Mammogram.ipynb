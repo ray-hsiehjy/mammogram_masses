{
  "nbformat": 4,
  "nbformat_minor": 0,
  "metadata": {
    "colab": {
      "name": "Mammogram.ipynb",
      "provenance": [],
      "collapsed_sections": [],
      "include_colab_link": true
    },
    "kernelspec": {
      "name": "python3",
      "display_name": "Python 3"
    },
    "accelerator": "GPU"
  },
  "cells": [
    {
      "cell_type": "markdown",
      "metadata": {
        "id": "view-in-github",
        "colab_type": "text"
      },
      "source": [
        "<a href=\"https://colab.research.google.com/github/ray-hsiehjy/mammogram_masses/blob/master/Mammogram.ipynb\" target=\"_parent\"><img src=\"https://colab.research.google.com/assets/colab-badge.svg\" alt=\"Open In Colab\"/></a>"
      ]
    },
    {
      "cell_type": "code",
      "metadata": {
        "id": "ZHac6OpQiy8J",
        "colab_type": "code",
        "outputId": "41f719a4-da0c-4b38-d5de-99fcaa36d174",
        "colab": {
          "base_uri": "https://localhost:8080/",
          "height": 90
        }
      },
      "source": [
        "!wget --no-verbose https://archive.ics.uci.edu/ml/machine-learning-databases/mammographic-masses/mammographic_masses.data\n",
        "!pip install -q shap"
      ],
      "execution_count": 1,
      "outputs": [
        {
          "output_type": "stream",
          "text": [
            "2019-10-10 19:40:43 URL:https://archive.ics.uci.edu/ml/machine-learning-databases/mammographic-masses/mammographic_masses.data [13450/13450] -> \"mammographic_masses.data\" [1]\n",
            "\u001b[K     |████████████████████████████████| 245kB 2.9MB/s \n",
            "\u001b[?25h  Building wheel for shap (setup.py) ... \u001b[?25l\u001b[?25hdone\n"
          ],
          "name": "stdout"
        }
      ]
    },
    {
      "cell_type": "markdown",
      "metadata": {
        "id": "lZTqksF9lXN0",
        "colab_type": "text"
      },
      "source": [
        "# Mammographic mass dataset from [UCI repository](https://archive.ics.uci.edu/ml/datasets/Mammographic+Mass)"
      ]
    },
    {
      "cell_type": "markdown",
      "metadata": {
        "id": "c7VPDo-rnx-Z",
        "colab_type": "text"
      },
      "source": [
        "## Question\n",
        "- What are the most helpful features assisting differentiation of benign and malignant masses?"
      ]
    },
    {
      "cell_type": "markdown",
      "metadata": {
        "id": "H4Fnj4WXlAjP",
        "colab_type": "text"
      },
      "source": [
        "## Attribute Information\n",
        "\n",
        "- 6 Attributes in total \n",
        "    - 1 goal field, 1 non-predictive, 4 predictive attributes\n",
        "\n",
        "- BI-RADS assessment: 1 to 5 (**ordinal**, non-predictive!)\n",
        "- Age: patient's age in years (**integer**)\n",
        "- Shape: mass shape: round=1 oval=2 lobular=3 irregular=4 (**nominal**)\n",
        "- Margin: mass margin: circumscribed=1 microlobulated=2 obscured=3 ill-defined=4 spiculated=5 (**nominal**)\n",
        "- Density: mass density high=1 iso=2 low=3 fat-containing=4 (**ordinal**)\n",
        "- Severity: benign=0 or malignant=1 (**binominal**, goal field!)"
      ]
    },
    {
      "cell_type": "code",
      "metadata": {
        "id": "D7ev56GDi-Ju",
        "colab_type": "code",
        "colab": {}
      },
      "source": [
        "import numpy as np\n",
        "import pandas as pd\n",
        "import matplotlib.pyplot as plt\n",
        "import seaborn as sns\n",
        "\n",
        "from sklearn.model_selection import train_test_split\n",
        "from sklearn.ensemble import RandomForestClassifier\n",
        "from sklearn.metrics import confusion_matrix, classification_report, roc_curve, auc\n",
        "\n",
        "import tensorflow.keras.backend as K\n",
        "from tensorflow.keras.models import Model\n",
        "from tensorflow.keras.layers import Input, Dense, BatchNormalization, Dropout\n",
        "from tensorflow.keras.optimizers import Adam\n",
        "from tensorflow.keras.callbacks import ReduceLROnPlateau\n",
        "\n",
        "import shap\n",
        "\n",
        "%matplotlib inline"
      ],
      "execution_count": 0,
      "outputs": []
    },
    {
      "cell_type": "code",
      "metadata": {
        "id": "rXvRSzAWjEo8",
        "colab_type": "code",
        "outputId": "4175dc7d-8e1f-4de7-a96e-852e5e989ce6",
        "colab": {
          "base_uri": "https://localhost:8080/",
          "height": 203
        }
      },
      "source": [
        "# read in data from csv\n",
        "df = pd.read_csv(\"/content/mammographic_masses.data\", header=None, names=[\"BI-RADS\", \"Age\", \"Shape\", \"Margin\", \"Density\", \"Label\"])\n",
        "# handling missing data \"?\" with NaN\n",
        "df.replace(\"?\", np.nan, inplace=True)\n",
        "# will drop ~14% of samples\n",
        "df.dropna(axis=0, inplace=True)\n",
        "# convert everything to int\n",
        "df = df.astype(\"int\")\n",
        "df.head()"
      ],
      "execution_count": 3,
      "outputs": [
        {
          "output_type": "execute_result",
          "data": {
            "text/html": [
              "<div>\n",
              "<style scoped>\n",
              "    .dataframe tbody tr th:only-of-type {\n",
              "        vertical-align: middle;\n",
              "    }\n",
              "\n",
              "    .dataframe tbody tr th {\n",
              "        vertical-align: top;\n",
              "    }\n",
              "\n",
              "    .dataframe thead th {\n",
              "        text-align: right;\n",
              "    }\n",
              "</style>\n",
              "<table border=\"1\" class=\"dataframe\">\n",
              "  <thead>\n",
              "    <tr style=\"text-align: right;\">\n",
              "      <th></th>\n",
              "      <th>BI-RADS</th>\n",
              "      <th>Age</th>\n",
              "      <th>Shape</th>\n",
              "      <th>Margin</th>\n",
              "      <th>Density</th>\n",
              "      <th>Label</th>\n",
              "    </tr>\n",
              "  </thead>\n",
              "  <tbody>\n",
              "    <tr>\n",
              "      <th>0</th>\n",
              "      <td>5</td>\n",
              "      <td>67</td>\n",
              "      <td>3</td>\n",
              "      <td>5</td>\n",
              "      <td>3</td>\n",
              "      <td>1</td>\n",
              "    </tr>\n",
              "    <tr>\n",
              "      <th>2</th>\n",
              "      <td>5</td>\n",
              "      <td>58</td>\n",
              "      <td>4</td>\n",
              "      <td>5</td>\n",
              "      <td>3</td>\n",
              "      <td>1</td>\n",
              "    </tr>\n",
              "    <tr>\n",
              "      <th>3</th>\n",
              "      <td>4</td>\n",
              "      <td>28</td>\n",
              "      <td>1</td>\n",
              "      <td>1</td>\n",
              "      <td>3</td>\n",
              "      <td>0</td>\n",
              "    </tr>\n",
              "    <tr>\n",
              "      <th>8</th>\n",
              "      <td>5</td>\n",
              "      <td>57</td>\n",
              "      <td>1</td>\n",
              "      <td>5</td>\n",
              "      <td>3</td>\n",
              "      <td>1</td>\n",
              "    </tr>\n",
              "    <tr>\n",
              "      <th>10</th>\n",
              "      <td>5</td>\n",
              "      <td>76</td>\n",
              "      <td>1</td>\n",
              "      <td>4</td>\n",
              "      <td>3</td>\n",
              "      <td>1</td>\n",
              "    </tr>\n",
              "  </tbody>\n",
              "</table>\n",
              "</div>"
            ],
            "text/plain": [
              "    BI-RADS  Age  Shape  Margin  Density  Label\n",
              "0         5   67      3       5        3      1\n",
              "2         5   58      4       5        3      1\n",
              "3         4   28      1       1        3      0\n",
              "8         5   57      1       5        3      1\n",
              "10        5   76      1       4        3      1"
            ]
          },
          "metadata": {
            "tags": []
          },
          "execution_count": 3
        }
      ]
    },
    {
      "cell_type": "code",
      "metadata": {
        "id": "VjSVmUh4-McC",
        "colab_type": "code",
        "outputId": "9d1cedf2-3acf-42f4-e3ab-0f874f1b8d2c",
        "colab": {
          "base_uri": "https://localhost:8080/",
          "height": 286
        }
      },
      "source": [
        "# quick look at correlation between columns\n",
        "corr = df.corr(method=\"spearman\")\n",
        "# there is no single column that dominating\n",
        "mask = np.zeros_like(corr)\n",
        "mask[np.triu_indices_from(mask)] = True\n",
        "sns.heatmap(corr, annot=True, cmap=\"Blues\", mask=mask)"
      ],
      "execution_count": 4,
      "outputs": [
        {
          "output_type": "execute_result",
          "data": {
            "text/plain": [
              "<matplotlib.axes._subplots.AxesSubplot at 0x7f60070eecc0>"
            ]
          },
          "metadata": {
            "tags": []
          },
          "execution_count": 4
        },
        {
          "output_type": "display_data",
          "data": {
            "image/png": "[encoded data removed]",
            "text/plain": [
              "<Figure size 432x288 with 2 Axes>"
            ]
          },
          "metadata": {
            "tags": []
          }
        }
      ]
    },
    {
      "cell_type": "code",
      "metadata": {
        "id": "mk5YORXqjR1m",
        "colab_type": "code",
        "colab": {
          "base_uri": "https://localhost:8080/",
          "height": 203
        },
        "outputId": "98fb682e-e17d-463d-a5ed-4d9138ba9cdf"
      },
      "source": [
        "# convert nominal feature columns to target labels\n",
        "\n",
        "nominal_features = [\"Shape\", \"Margin\"]\n",
        "\n",
        "hashes = [\n",
        "          # Shape\n",
        "          {1:\"round\", 2:\"oval\", 3:\"lobular\", 4:\"irregular\"},\n",
        "          # Margin\n",
        "          {1:\"circumscribed\", 2:\"microlobulated\", 3:\"obscured\", 4:\"ill-defined\", 5:\"spiculated\"},\n",
        "          ]\n",
        "\n",
        "for feature, h in zip(nominal_features, hashes):\n",
        "    df[feature].replace(h, inplace=True)\n",
        "\n",
        "df.head()"
      ],
      "execution_count": 5,
      "outputs": [
        {
          "output_type": "execute_result",
          "data": {
            "text/html": [
              "<div>\n",
              "<style scoped>\n",
              "    .dataframe tbody tr th:only-of-type {\n",
              "        vertical-align: middle;\n",
              "    }\n",
              "\n",
              "    .dataframe tbody tr th {\n",
              "        vertical-align: top;\n",
              "    }\n",
              "\n",
              "    .dataframe thead th {\n",
              "        text-align: right;\n",
              "    }\n",
              "</style>\n",
              "<table border=\"1\" class=\"dataframe\">\n",
              "  <thead>\n",
              "    <tr style=\"text-align: right;\">\n",
              "      <th></th>\n",
              "      <th>BI-RADS</th>\n",
              "      <th>Age</th>\n",
              "      <th>Shape</th>\n",
              "      <th>Margin</th>\n",
              "      <th>Density</th>\n",
              "      <th>Label</th>\n",
              "    </tr>\n",
              "  </thead>\n",
              "  <tbody>\n",
              "    <tr>\n",
              "      <th>0</th>\n",
              "      <td>5</td>\n",
              "      <td>67</td>\n",
              "      <td>lobular</td>\n",
              "      <td>spiculated</td>\n",
              "      <td>3</td>\n",
              "      <td>1</td>\n",
              "    </tr>\n",
              "    <tr>\n",
              "      <th>2</th>\n",
              "      <td>5</td>\n",
              "      <td>58</td>\n",
              "      <td>irregular</td>\n",
              "      <td>spiculated</td>\n",
              "      <td>3</td>\n",
              "      <td>1</td>\n",
              "    </tr>\n",
              "    <tr>\n",
              "      <th>3</th>\n",
              "      <td>4</td>\n",
              "      <td>28</td>\n",
              "      <td>round</td>\n",
              "      <td>circumscribed</td>\n",
              "      <td>3</td>\n",
              "      <td>0</td>\n",
              "    </tr>\n",
              "    <tr>\n",
              "      <th>8</th>\n",
              "      <td>5</td>\n",
              "      <td>57</td>\n",
              "      <td>round</td>\n",
              "      <td>spiculated</td>\n",
              "      <td>3</td>\n",
              "      <td>1</td>\n",
              "    </tr>\n",
              "    <tr>\n",
              "      <th>10</th>\n",
              "      <td>5</td>\n",
              "      <td>76</td>\n",
              "      <td>round</td>\n",
              "      <td>ill-defined</td>\n",
              "      <td>3</td>\n",
              "      <td>1</td>\n",
              "    </tr>\n",
              "  </tbody>\n",
              "</table>\n",
              "</div>"
            ],
            "text/plain": [
              "    BI-RADS  Age      Shape         Margin  Density  Label\n",
              "0         5   67    lobular     spiculated        3      1\n",
              "2         5   58  irregular     spiculated        3      1\n",
              "3         4   28      round  circumscribed        3      0\n",
              "8         5   57      round     spiculated        3      1\n",
              "10        5   76      round    ill-defined        3      1"
            ]
          },
          "metadata": {
            "tags": []
          },
          "execution_count": 5
        }
      ]
    },
    {
      "cell_type": "markdown",
      "metadata": {
        "id": "ZymBatV0pk8Q",
        "colab_type": "text"
      },
      "source": [
        "## Split train_test data"
      ]
    },
    {
      "cell_type": "code",
      "metadata": {
        "id": "rCPT599WnoTG",
        "colab_type": "code",
        "outputId": "00529fcb-3eda-499c-a59d-7083204fbe7a",
        "colab": {
          "base_uri": "https://localhost:8080/",
          "height": 87
        }
      },
      "source": [
        "# feature data\n",
        "X = pd.get_dummies(df.iloc[:, :-1]) \n",
        "\n",
        "#Target label\n",
        "y = df.iloc[:, -1]\n",
        "\n",
        "train_X, test_X, train_y, test_y = train_test_split(\n",
        "    X, y, test_size=0.1, random_state=41\n",
        ")\n",
        "\n",
        "print(f\"train_X shape {train_X.shape}\")\n",
        "print(f\"test_X shape {test_X.shape}\")\n",
        "print(f\"train_y shape {train_y.shape}\")\n",
        "print(f\"test_y shape {test_y.shape}\")\n"
      ],
      "execution_count": 6,
      "outputs": [
        {
          "output_type": "stream",
          "text": [
            "train_X shape (747, 12)\n",
            "test_X shape (83, 12)\n",
            "train_y shape (747,)\n",
            "test_y shape (83,)\n"
          ],
          "name": "stdout"
        }
      ]
    },
    {
      "cell_type": "markdown",
      "metadata": {
        "id": "1tN-XsEkpd1f",
        "colab_type": "text"
      },
      "source": [
        "# Random Forest Classifier"
      ]
    },
    {
      "cell_type": "code",
      "metadata": {
        "id": "OZLmaQV0qhv9",
        "colab_type": "code",
        "outputId": "87cfae2e-0916-419e-80e3-556a23bdc2ff",
        "colab": {
          "base_uri": "https://localhost:8080/",
          "height": 34
        }
      },
      "source": [
        "# initiate a classifier\n",
        "rf_clf = RandomForestClassifier(\n",
        "    n_estimators=200,\n",
        "    max_depth=5,\n",
        "    class_weight=\"balanced\",\n",
        "    bootstrap=True,\n",
        "    n_jobs=5,\n",
        "    random_state=0\n",
        "    )\n",
        "# fit with training data\n",
        "rf_clf.fit(train_X, train_y)\n",
        "acc = rf_clf.score(train_X, train_y)\n",
        "print(f\"Random forest accuracy on training set = {acc:.3f}\")"
      ],
      "execution_count": 7,
      "outputs": [
        {
          "output_type": "stream",
          "text": [
            "Random forest accuracy on training set = 0.865\n"
          ],
          "name": "stdout"
        }
      ]
    },
    {
      "cell_type": "markdown",
      "metadata": {
        "id": "KgEhmt45qY_5",
        "colab_type": "text"
      },
      "source": [
        "## Feature importance\n",
        "- BI-RADS has the highest impact on prediction, which makes total sense. BIRADS is determined by radiologist after looking at mammographic images. \n",
        "- However, BIRADS along is not sufficient to determine the outcome accurately. \n",
        "- SHAP value analysis can provide more insight on how other features affect predicitons."
      ]
    },
    {
      "cell_type": "code",
      "metadata": {
        "id": "JFtPibx5yRm8",
        "colab_type": "code",
        "outputId": "21a73c10-5bce-4b38-f43e-b1235eb80bcb",
        "colab": {
          "base_uri": "https://localhost:8080/",
          "height": 396
        }
      },
      "source": [
        "# look at feature importances relative to one and another\n",
        "importance = rf_clf.feature_importances_\n",
        "importance = pd.Series(importance, index=train_X.columns).sort_values()\n",
        "plt.figure(figsize=(8,6))\n",
        "plt.barh(importance.index, importance)"
      ],
      "execution_count": 8,
      "outputs": [
        {
          "output_type": "execute_result",
          "data": {
            "text/plain": [
              "<BarContainer object of 12 artists>"
            ]
          },
          "metadata": {
            "tags": []
          },
          "execution_count": 8
        },
        {
          "output_type": "display_data",
          "data": {
            "image/png": "[encoded data removed]",
            "text/plain": [
              "<Figure size 576x432 with 1 Axes>"
            ]
          },
          "metadata": {
            "tags": []
          }
        }
      ]
    },
    {
      "cell_type": "markdown",
      "metadata": {
        "id": "iM-w-QSQrZRo",
        "colab_type": "text"
      },
      "source": [
        "## Confusion Matrix\n",
        "- The random forest classifier is doing fairly good. \n",
        "- For malignant masses, it is more important to get higher recall than precision during the trade-off, because it is more detrimental to misclassify a malegnant mass than misclassify a benign one. "
      ]
    },
    {
      "cell_type": "code",
      "metadata": {
        "id": "S24hy8uz59ap",
        "colab_type": "code",
        "outputId": "023b3b9e-5677-4871-dafc-c2be4e6dafa0",
        "colab": {
          "base_uri": "https://localhost:8080/",
          "height": 430
        }
      },
      "source": [
        "# confusion matrix\n",
        "rf_pred = rf_clf.predict(test_X)\n",
        "confusion = confusion_matrix(test_y, rf_pred)\n",
        "confusion = pd.DataFrame(confusion.T, index=[\"benign_pred\", \"malignant_pred\"], columns=[\"benign\", \"malignant\"])\n",
        "sns.heatmap(confusion, annot=True, cmap=\"Blues\")\n",
        "\n",
        "report = classification_report(test_y, rf_pred, labels=[0, 1], target_names=[\"benign\", \"malignant\"])\n",
        "print(report)"
      ],
      "execution_count": 9,
      "outputs": [
        {
          "output_type": "stream",
          "text": [
            "              precision    recall  f1-score   support\n",
            "\n",
            "      benign       0.85      0.77      0.81        44\n",
            "   malignant       0.77      0.85      0.80        39\n",
            "\n",
            "    accuracy                           0.81        83\n",
            "   macro avg       0.81      0.81      0.81        83\n",
            "weighted avg       0.81      0.81      0.81        83\n",
            "\n"
          ],
          "name": "stdout"
        },
        {
          "output_type": "display_data",
          "data": {
            "image/png": "[encoded data removed]",
            "text/plain": [
              "<Figure size 432x288 with 2 Axes>"
            ]
          },
          "metadata": {
            "tags": []
          }
        }
      ]
    },
    {
      "cell_type": "markdown",
      "metadata": {
        "id": "R-WlJOgPtYAB",
        "colab_type": "text"
      },
      "source": [
        "## ROC curve and AUC\n",
        "- ROC curve shows the relationship between false positive rate and true positive rate\n",
        "- AUC estimates how good the curve is performing (this is useful when comparing multiple curves. Here there is only one)\n",
        "- AUC of 0.91 is very good, as it is very close to 1 (100% correct)"
      ]
    },
    {
      "cell_type": "code",
      "metadata": {
        "id": "cm3eV7pV8Jiq",
        "colab_type": "code",
        "outputId": "911e10fd-8dca-4f52-a457-a63522f40848",
        "colab": {
          "base_uri": "https://localhost:8080/",
          "height": 409
        }
      },
      "source": [
        "# prob of being malignant for every sample\n",
        "rf_pred_prob = rf_clf.predict_proba(test_X)[:, 1]\n",
        "\n",
        "fpr, tpr, thresholds = roc_curve(test_y, rf_pred_prob)\n",
        "\n",
        "plt.figure(figsize=(8,6))\n",
        "plt.plot(fpr, tpr)\n",
        "plt.plot((0,1), (0,1), linestyle=\"--\", color=\"k\")\n",
        "plt.xlabel(\"False positive rate\", size=14)\n",
        "plt.ylabel(\"True positive rate\", size=14)\n",
        "plt.title(\"roc_curve\", size=14)\n",
        "plt.text(1, 0, f\"Area under curve ={auc(fpr, tpr):.2f}\", size=14, ha=\"right\", color=\"r\")\n",
        "plt.show()"
      ],
      "execution_count": 10,
      "outputs": [
        {
          "output_type": "display_data",
          "data": {
            "image/png": "[encoded data removed]",
            "text/plain": [
              "<Figure size 576x432 with 1 Axes>"
            ]
          },
          "metadata": {
            "tags": []
          }
        }
      ]
    },
    {
      "cell_type": "markdown",
      "metadata": {
        "id": "A143sYbDt91P",
        "colab_type": "text"
      },
      "source": [
        "## SHAP values\n",
        "- SHAP values provides more details than simple feature-importance bar chart\n",
        "- The conclusion is consistent with what feature-importance had shown, BIRADS, Margin, and Shape are critical criteria on the prediction\n",
        "- Interestingly, Age has the same importance as Shape_irregular in the bar chart, but it's impact on individual output is not as clean as Shape_irregular (some purple dots)\n",
        "- **Positive impact on the graph increase the chance of giving prediction 1 (aka malignant); conversely, negative impact decrease the chance**\n"
      ]
    },
    {
      "cell_type": "code",
      "metadata": {
        "id": "Qeiy_c1QBzxC",
        "colab_type": "code",
        "outputId": "1bc0898b-6cf6-4e41-d998-6598705cc77b",
        "colab": {
          "base_uri": "https://localhost:8080/",
          "height": 427
        }
      },
      "source": [
        "explainer = shap.TreeExplainer(rf_clf)\n",
        "shap_values = explainer.shap_values(test_X)\n",
        "# shape_values[1] is a list of probabilities giving prediction to the second class (aka malignant)\n",
        "shap.summary_plot(shap_values[1], test_X)"
      ],
      "execution_count": 11,
      "outputs": [
        {
          "output_type": "display_data",
          "data": {
            "image/png": "[encoded data removed]",
            "text/plain": [
              "<Figure size 576x453.6 with 2 Axes>"
            ]
          },
          "metadata": {
            "tags": []
          }
        }
      ]
    },
    {
      "cell_type": "markdown",
      "metadata": {
        "id": "7E_IsEbVvKWH",
        "colab_type": "text"
      },
      "source": [
        "# Neural Network Classifier"
      ]
    },
    {
      "cell_type": "markdown",
      "metadata": {
        "id": "uuU-PFcd7hMG",
        "colab_type": "text"
      },
      "source": [
        "## Handle unbalance samples in training set\n",
        "- In this case, the rateo (benign:malignant = 383:364) is no very off but it is a good pratice to always balance the sample size during training.\n",
        "- Benign samples will be weighted a little more during training"
      ]
    },
    {
      "cell_type": "code",
      "metadata": {
        "id": "5MgdVjYM1gc3",
        "colab_type": "code",
        "colab": {
          "base_uri": "https://localhost:8080/",
          "height": 34
        },
        "outputId": "20e36add-a0b3-48ab-821b-624c1aae65da"
      },
      "source": [
        "sample_ratio = train_y.value_counts()\n",
        "sample_ratio = sample_ratio.div(sample_ratio.max())\n",
        "class_weights = (1/sample_ratio).to_dict()\n",
        "# this dict will be feed into neural net during training\n",
        "# 0: benign, 1:malignant\n",
        "class_weights"
      ],
      "execution_count": 12,
      "outputs": [
        {
          "output_type": "execute_result",
          "data": {
            "text/plain": [
              "{0: 1.0, 1: 1.0521978021978022}"
            ]
          },
          "metadata": {
            "tags": []
          },
          "execution_count": 12
        }
      ]
    },
    {
      "cell_type": "markdown",
      "metadata": {
        "id": "yQ-06fDy7Ykw",
        "colab_type": "text"
      },
      "source": [
        "## Define and train a Neural Network"
      ]
    },
    {
      "cell_type": "code",
      "metadata": {
        "id": "LBqh6pngvNED",
        "colab_type": "code",
        "colab": {}
      },
      "source": [
        "def nn_model(input_shape):\n",
        "\n",
        "    X_inputs = Input(shape=input_shape)\n",
        "\n",
        "    # train_X is not standardized. \n",
        "    # Alternatively, use sklearn.preprocessing.Standardscaler before feeding into neural net\n",
        "    X = BatchNormalization()(X_inputs)\n",
        "\n",
        "    X = Dense(512, activation=\"relu\")(X)\n",
        "    X = BatchNormalization()(X)\n",
        "    X = Dropout(0.7)(X)\n",
        "\n",
        "    X = Dense(512, activation=\"relu\")(X)\n",
        "    X = BatchNormalization()(X)\n",
        "    X = Dropout(0.7)(X)\n",
        "\n",
        "    X = Dense(512, activation=\"relu\")(X)\n",
        "    X = BatchNormalization()(X)\n",
        "    X = Dropout(0.7)(X)\n",
        "\n",
        "    outputs = Dense(1, activation=\"sigmoid\")(X)\n",
        "\n",
        "    model = Model(inputs=X_inputs, outputs=outputs)\n",
        "\n",
        "    return model"
      ],
      "execution_count": 0,
      "outputs": []
    },
    {
      "cell_type": "code",
      "metadata": {
        "id": "ZTetdDi2yjnf",
        "colab_type": "code",
        "colab": {
          "base_uri": "https://localhost:8080/",
          "height": 1000
        },
        "outputId": "a1722802-b66e-4565-b3ec-1070f8d5caf9"
      },
      "source": [
        "K.clear_session()\n",
        "\n",
        "input_shape = train_X.shape[1]\n",
        "\n",
        "# create an nn graph\n",
        "nn_clf = nn_model(input_shape)\n",
        "# print out nn summary\n",
        "nn_clf.summary()\n",
        "\n",
        "opt = Adam()\n",
        "lr_reduction = ReduceLROnPlateau(monitor=\"val_loss\", factor=0.2, patience=10, min_delta=1e-4, cooldown=10, min_lr=1e-5, verbose=1)\n",
        "\n",
        "nn_clf.compile(optimizer=opt, loss=\"binary_crossentropy\", metrics=[\"acc\"])\n",
        "\n",
        "history = nn_clf.fit(\n",
        "    # Keras does not take pandas DataFrames. Convert to array first.\n",
        "    train_X.values,\n",
        "    train_y.values,\n",
        "    batch_size=16,\n",
        "    epochs=100,\n",
        "    verbose=0,\n",
        "    callbacks=[lr_reduction],\n",
        "    validation_data=(test_X, test_y),\n",
        "    class_weight=class_weights,\n",
        "    workers=5\n",
        ")\n",
        "\n",
        "plt.plot(history.history[\"acc\"], label=\"acc\")\n",
        "plt.plot(history.history[\"val_acc\"], label=\"val_acc\")\n",
        "plt.legend()\n",
        "plt.show()"
      ],
      "execution_count": 14,
      "outputs": [
        {
          "output_type": "stream",
          "text": [
            "WARNING:tensorflow:From /usr/local/lib/python3.6/dist-packages/tensorflow_core/python/ops/resource_variable_ops.py:1630: calling BaseResourceVariable.__init__ (from tensorflow.python.ops.resource_variable_ops) with constraint is deprecated and will be removed in a future version.\n",
            "Instructions for updating:\n",
            "If using Keras pass *_constraint arguments to layers.\n",
            "WARNING:tensorflow:Large dropout rate: 0.7 (>0.5). In TensorFlow 2.x, dropout() uses dropout rate instead of keep_prob. Please ensure that this is intended.\n",
            "WARNING:tensorflow:Large dropout rate: 0.7 (>0.5). In TensorFlow 2.x, dropout() uses dropout rate instead of keep_prob. Please ensure that this is intended.\n",
            "WARNING:tensorflow:Large dropout rate: 0.7 (>0.5). In TensorFlow 2.x, dropout() uses dropout rate instead of keep_prob. Please ensure that this is intended.\n",
            "Model: \"model\"\n",
            "_________________________________________________________________\n",
            "Layer (type)                 Output Shape              Param #   \n",
            "=================================================================\n",
            "input_1 (InputLayer)         [(None, 12)]              0         \n",
            "_________________________________________________________________\n",
            "batch_normalization (BatchNo (None, 12)                48        \n",
            "_________________________________________________________________\n",
            "dense (Dense)                (None, 512)               6656      \n",
            "_________________________________________________________________\n",
            "batch_normalization_1 (Batch (None, 512)               2048      \n",
            "_________________________________________________________________\n",
            "dropout (Dropout)            (None, 512)               0         \n",
            "_________________________________________________________________\n",
            "dense_1 (Dense)              (None, 512)               262656    \n",
            "_________________________________________________________________\n",
            "batch_normalization_2 (Batch (None, 512)               2048      \n",
            "_________________________________________________________________\n",
            "dropout_1 (Dropout)          (None, 512)               0         \n",
            "_________________________________________________________________\n",
            "dense_2 (Dense)              (None, 512)               262656    \n",
            "_________________________________________________________________\n",
            "batch_normalization_3 (Batch (None, 512)               2048      \n",
            "_________________________________________________________________\n",
            "dropout_2 (Dropout)          (None, 512)               0         \n",
            "_________________________________________________________________\n",
            "dense_3 (Dense)              (None, 1)                 513       \n",
            "=================================================================\n",
            "Total params: 538,673\n",
            "Trainable params: 535,577\n",
            "Non-trainable params: 3,096\n",
            "_________________________________________________________________\n",
            "WARNING:tensorflow:From /usr/local/lib/python3.6/dist-packages/tensorflow_core/python/ops/nn_impl.py:183: where (from tensorflow.python.ops.array_ops) is deprecated and will be removed in a future version.\n",
            "Instructions for updating:\n",
            "Use tf.where in 2.0, which has the same broadcast rule as np.where\n",
            "\n",
            "Epoch 00029: ReduceLROnPlateau reducing learning rate to 0.00020000000949949026.\n",
            "\n",
            "Epoch 00048: ReduceLROnPlateau reducing learning rate to 4.0000001899898055e-05.\n",
            "\n",
            "Epoch 00067: ReduceLROnPlateau reducing learning rate to 1e-05.\n"
          ],
          "name": "stdout"
        },
        {
          "output_type": "execute_result",
          "data": {
            "text/plain": [
              "<matplotlib.legend.Legend at 0x7f60030287b8>"
            ]
          },
          "metadata": {
            "tags": []
          },
          "execution_count": 14
        },
        {
          "output_type": "display_data",
          "data": {
            "image/png": "[encoded data removed]",
            "text/plain": [
              "<Figure size 432x288 with 1 Axes>"
            ]
          },
          "metadata": {
            "tags": []
          }
        }
      ]
    },
    {
      "cell_type": "markdown",
      "metadata": {
        "id": "PrTHLKm09Uz5",
        "colab_type": "text"
      },
      "source": [
        "## Confution Matrix"
      ]
    },
    {
      "cell_type": "code",
      "metadata": {
        "id": "TlfFHQQl4cK_",
        "colab_type": "code",
        "colab": {
          "base_uri": "https://localhost:8080/",
          "height": 430
        },
        "outputId": "808b80fc-0635-4c53-e4fb-17b6ec4835fc"
      },
      "source": [
        "# make prediction. nn output array has shape [m, 1]. Squeeze into shape [m]\n",
        "nn_pred_prob = nn_clf.predict(test_X).squeeze()\n",
        "nn_pred = nn_pred_prob > 0.5\n",
        "\n",
        "# make confusion matrix\n",
        "nn_confusion = confusion_matrix(test_y, nn_pred)\n",
        "nn_confusion = pd.DataFrame(nn_confusion.T, index=[\"benign_pred\", \"malignant_pred\"], columns=[\"benign\", \"malignant\"])\n",
        "\n",
        "# put confusion matrix in heatmap\n",
        "sns.heatmap(nn_confusion, annot=True, cmap=\"Blues\")\n",
        "\n",
        "# print out confusion matrix report\n",
        "report = classification_report(test_y, nn_pred, labels=[0, 1], target_names=[\"benign\", \"malignant\"])\n",
        "print(report)"
      ],
      "execution_count": 15,
      "outputs": [
        {
          "output_type": "stream",
          "text": [
            "              precision    recall  f1-score   support\n",
            "\n",
            "      benign       0.79      0.77      0.78        44\n",
            "   malignant       0.75      0.77      0.76        39\n",
            "\n",
            "    accuracy                           0.77        83\n",
            "   macro avg       0.77      0.77      0.77        83\n",
            "weighted avg       0.77      0.77      0.77        83\n",
            "\n"
          ],
          "name": "stdout"
        },
        {
          "output_type": "display_data",
          "data": {
            "image/png": "[encoded data removed]",
            "text/plain": [
              "<Figure size 432x288 with 2 Axes>"
            ]
          },
          "metadata": {
            "tags": []
          }
        }
      ]
    },
    {
      "cell_type": "markdown",
      "metadata": {
        "id": "STVCwfZR9Yde",
        "colab_type": "text"
      },
      "source": [
        "## ROC curve and AUC"
      ]
    },
    {
      "cell_type": "code",
      "metadata": {
        "id": "cKaeu1a24nQl",
        "colab_type": "code",
        "colab": {
          "base_uri": "https://localhost:8080/",
          "height": 409
        },
        "outputId": "4d10ed4b-5406-47be-8857-84f861a6f188"
      },
      "source": [
        "fpr, tpr, _ = roc_curve(test_y, nn_pred_prob)\n",
        "\n",
        "plt.figure(figsize=(8,6))\n",
        "plt.plot(fpr, tpr)\n",
        "plt.plot((0,1), (0,1), linestyle=\"--\", color=\"k\")\n",
        "plt.xlabel(\"False positive rate\", size=14)\n",
        "plt.ylabel(\"True positive rate\", size=14)\n",
        "plt.title(\"roc_curve\", size=14)\n",
        "plt.text(1, 0, f\"Area under curve ={auc(fpr, tpr):.2f}\", size=14, ha=\"right\", color=\"r\")\n",
        "plt.show()"
      ],
      "execution_count": 16,
      "outputs": [
        {
          "output_type": "display_data",
          "data": {
            "image/png": "[encoded data removed]",
            "text/plain": [
              "<Figure size 576x432 with 1 Axes>"
            ]
          },
          "metadata": {
            "tags": []
          }
        }
      ]
    },
    {
      "cell_type": "markdown",
      "metadata": {
        "id": "yfBENxEw9bCV",
        "colab_type": "text"
      },
      "source": [
        "# Conclusion\n",
        "- Random forest seems to perform a little better than neural network but both in close range.\n",
        "- Margin and Shape together with BIDRAS give farily good predicting power\n",
        "- Margin being circumscribed has a positive impact on benign prediction\n",
        "- Shape being irregular is an strong indicator of having malignant mass"
      ]
    }
  ]
}